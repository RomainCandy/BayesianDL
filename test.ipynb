{
 "cells": [
  {
   "cell_type": "code",
   "execution_count": 1,
   "metadata": {},
   "outputs": [],
   "source": [
    "from bayesByBackprop import ShuffleNetV2, GaussianVariationalInference\n",
    "import torch\n",
    "import torch.nn.functional as F\n",
    "from torchvision import datasets, transforms\n",
    "import os\n",
    "import sys\n",
    "from torch.optim.lr_scheduler import _LRScheduler\n",
    "from torch.utils.data import DataLoader\n",
    "import torch.nn as nn\n",
    "import numpy as np\n",
    "from tqdm import tqdm_notebook as tqdm\n",
    "import matplotlib.pyplot as plt"
   ]
  },
  {
   "cell_type": "code",
   "execution_count": 14,
   "metadata": {},
   "outputs": [],
   "source": [
    "device = torch.device(\"cuda:0\" if torch.cuda.is_available() else \"cpu\")"
   ]
  },
  {
   "cell_type": "code",
   "execution_count": 2,
   "metadata": {},
   "outputs": [],
   "source": [
    "def cycle_lr(lr_max, num_steps):\n",
    "    lr_min = lr_max * 1e-1\n",
    "    _num_steps = int(num_steps * .9)\n",
    "    first_step = _num_steps // 2\n",
    "    second_step = _num_steps - first_step\n",
    "    last_step = num_steps - _num_steps\n",
    "    yo = np.empty(num_steps)\n",
    "    yo[:first_step] = np.linspace(lr_min, lr_max, first_step)\n",
    "    yo[first_step:_num_steps] = np.linspace(lr_max, lr_min, second_step)\n",
    "    yo[_num_steps:] = np.linspace(lr_min, lr_min * 1e-4, last_step)\n",
    "    return yo\n",
    "\n",
    "def cycle_momenthum(mom_min, mom_max, num_steps):\n",
    "    _num_steps = int(num_steps * .9)\n",
    "    first_step = _num_steps // 2\n",
    "    second_step = _num_steps - first_step\n",
    "    last_step = num_steps - _num_steps\n",
    "    yo = np.empty(num_steps)\n",
    "    yo[:first_step] = np.linspace(mom_max, mom_min, first_step)\n",
    "    yo[first_step:_num_steps] = np.linspace(mom_min, mom_max, second_step)\n",
    "    yo[_num_steps:] = mom_max\n",
    "    return yo"
   ]
  },
  {
   "cell_type": "code",
   "execution_count": 3,
   "metadata": {},
   "outputs": [],
   "source": [
    "class LrSchedulerFinder(_LRScheduler):\n",
    "    def __init__(self, optimizer, lr_min, lr_max, num_steps):\n",
    "        self.lr_min = lr_min\n",
    "        self.lr_max = lr_max\n",
    "        self.num_steps = num_steps\n",
    "        self.q = (lr_max / lr_min) ** (1 / (num_steps - 1))\n",
    "        super().__init__(optimizer=optimizer, last_epoch=-1)\n",
    "\n",
    "    def get_lr(self):\n",
    "        return [base_lr * self.q ** (self.last_epoch + 1)\n",
    "                for base_lr in self.base_lrs]\n",
    "\n",
    "\n",
    "def find_lr(dataloader: DataLoader, model: nn.Module, optimizer: torch.optim, criterion, device, num_steps,\n",
    "            lr_min: float = 1e-7, lr_max: float = 10, beta: float = 0.98):\n",
    "    model.to(device)\n",
    "    optim_dict = optimizer.state_dict().copy()\n",
    "    optimizer.param_groups[0]['lr'] = lr_min\n",
    "#     num_steps = len(dataloader) - 1\n",
    "    scheduler = LrSchedulerFinder(optimizer, lr_min, lr_max, num_steps)\n",
    "    model_dict = model.state_dict().copy()\n",
    "    losses = list()\n",
    "    lrs = list()\n",
    "    avg_loss = 0\n",
    "    best_loss = 0\n",
    "    for idx_batch, (data, label) in tqdm(enumerate(dataloader, 1), total=num_steps):\n",
    "        if idx_batch == num_steps:\n",
    "            break\n",
    "        y, kl = model(data.to(device))\n",
    "        loss = criterion(y, label, kl, 0)\n",
    "        if np.isnan(loss.item()):\n",
    "            break\n",
    "        avg_loss = beta * avg_loss + (1 - beta) * loss.item()\n",
    "        smooth_loss = avg_loss / (1 - beta ** idx_batch)\n",
    "        if idx_batch > 1 and smooth_loss > 4 * best_loss:\n",
    "            break\n",
    "        if smooth_loss < best_loss or idx_batch == 1:\n",
    "            best_loss = smooth_loss\n",
    "        losses.append(smooth_loss)\n",
    "        lrs.append(scheduler.get_lr()[0])\n",
    "        optimizer.zero_grad()\n",
    "        loss.backward()\n",
    "        optimizer.step()\n",
    "        scheduler.step()\n",
    "    model.load_state_dict(model_dict)\n",
    "    optimizer.load_state_dict(optim_dict)\n",
    "    return np.array(lrs), np.array(losses)"
   ]
  },
  {
   "cell_type": "code",
   "execution_count": 4,
   "metadata": {},
   "outputs": [],
   "source": [
    "class cycleScheduler():\n",
    "    def __init__(self, optimizer, num_iterations, lr_max, mom_min=.85, mom_max=.95):\n",
    "        self.optimizer = optimizer\n",
    "        self.lr_max = lr_max\n",
    "        self.mom_min = mom_min\n",
    "        self.mom_max = mom_max\n",
    "        self.num_iterations = num_iterations\n",
    "        self.it = 0\n",
    "        self.cycle_lr = cycle_lr(lr_max, num_iterations)\n",
    "        self.cycle_mom = cycle_momenthum(mom_min=mom_min, mom_max=mom_max, num_steps=num_iterations)\n",
    "        assert self.cycle_lr.shape == self.cycle_mom.shape\n",
    "        for param in self.optimizer.param_groups:\n",
    "            param[\"lr\"] = self.cycle_lr[self.it]\n",
    "            if \"momentum\" in param:\n",
    "                break\n",
    "            elif \"betas\" in param:\n",
    "                _, beta2 = param[\"betas\"]\n",
    "                break\n",
    "            else:\n",
    "                raise AttributeError(f\"cycleScheduler is implemented for optimizer with \"\n",
    "                                     f\"momentum ,and {self.optimizer.__class__.__name__} doesnt use it\")\n",
    "\n",
    "    def step(self):\n",
    "        for param in self.optimizer.param_groups:\n",
    "            param[\"lr\"] = self.cycle_lr[self.it]\n",
    "            if \"momentum\" in param:\n",
    "                param[\"momentum\"] = self.cycle_mom[self.it]\n",
    "            else:\n",
    "                _, beta2 = param[\"betas\"]\n",
    "                param[\"betas\"] = self.cycle_mom[self.it], beta2\n",
    "\n",
    "        self.it += 1"
   ]
  },
  {
   "cell_type": "code",
   "execution_count": 5,
   "metadata": {},
   "outputs": [],
   "source": [
    "class OneCycleModel():\n",
    "    def __init__(self, dataloader, valoader, model, device, optimizer, criterion, cycle_len):\n",
    "        self.dataloader = dataloader\n",
    "        self.valoader = valoader\n",
    "        self.model = model\n",
    "        self.optimizer = optimizer\n",
    "        self.criterion = criterion\n",
    "        self.cycle_len = cycle_len\n",
    "        self.device = device\n",
    "        self.lrs = None\n",
    "        self.losses = None\n",
    "        self.best_lr = None\n",
    "        self.num_iterations = len(dataloader) * cycle_len\n",
    "        \n",
    "    \n",
    "    def lr_find(self, num_steps: int=100, lr_min: float = 1e-8, lr_max: float = 10, beta: float = 0.98, show=False):\n",
    "        self.lrs, self.losses = find_lr(self.dataloader, self.model, self.optimizer, self.criterion, self.device,\n",
    "                                        num_steps, lr_min=lr_min, lr_max=lr_max, beta=beta)\n",
    "        argmin = self.losses.argmin()\n",
    "        diff_losses = np.diff(self.losses[:argmin])\n",
    "        self.idx = diff_losses.argmin()\n",
    "        self.best_lr = self.lrs[self.idx]\n",
    "        self.agressive = self.lrs[argmin]\n",
    "        self.compromise = self.lrs[(self.idx + argmin)//2]\n",
    "        if show:\n",
    "            markers = [(f\"best: {self.best_lr:.3f}\", self.idx, \"g\"),\n",
    "                       (f\"compromise: {self.compromise:.3f}\", (self.idx + argmin)//2, \"orange\"),\n",
    "                       (f\"agressive: {self.agressive:.3f}\", argmin, \"r\")]\n",
    "            plt.plot(self.lrs[10:-5], self.losses[10:-5], '-b')\n",
    "            for label, idx, color in markers:\n",
    "                plt.scatter(self.lrs[idx], self.losses[idx], label=label, c=color)\n",
    "            plt.xscale('log', basex=10)\n",
    "            plt.legend()\n",
    "            plt.show()\n",
    "    \n",
    "    def fit(self, lr_max=None, mom_min=.85, mom_max=.95):\n",
    "        self.model.to(self.device)\n",
    "        if lr_max is None:\n",
    "            if self.best_lr is None:\n",
    "                raise AttributeError(\"must run lr_find if no lr_max provided\")\n",
    "            else:\n",
    "                lr_max = self.best_lr\n",
    "        cycle_scheduler = cycleScheduler(self.optimizer, self.num_iterations, lr_max, mom_min, mom_max)\n",
    "        for epoch in range(self.cycle_len):\n",
    "            running_loss = 0\n",
    "            corrects = 0\n",
    "            training_size = 0\n",
    "            for batch_idx, (data, labels) in tqdm(enumerate(self.dataloader, 1), total=len(self.dataloader)):\n",
    "                cycle_scheduler.step()\n",
    "                self.optimizer.zero_grad()\n",
    "                beta = 1.1 ** (m - batch_idx) / ((1.1 ** m - 1)*10)\n",
    "#                 out = self.model(data.to(self.device))\n",
    "                out, kl = self.model(data.to(self.device))\n",
    "                loss = self.criterion(out, y, kl, beta)\n",
    "#                 loss = criterion(out, labels)\n",
    "                _,preds = torch.max(out.data, 1)\n",
    "                running_loss += loss.item() * data.size(0)\n",
    "                training_size += data.size(0)\n",
    "                corrects += torch.sum(labels.data == preds)\n",
    "                #Backpropagate the computation of the gradients\n",
    "                loss.backward()\n",
    "                #Do the step of the SGD\n",
    "                self.optimizer.step()\n",
    "            print(f'epoch:{epoch+1}/{self.cycle_len} Loss: {running_loss/training_size}  Accuracy: {100.*corrects.float()/training_size}%')\n",
    "            with torch.no_grad():\n",
    "                running_loss = 0\n",
    "                corrects = 0\n",
    "                training_size = 0\n",
    "                for i, (data, labels) in tqdm(enumerate(self.valoader), total=len(self.valoader)):    \n",
    "                    out, _ = self.model(data.to(device))\n",
    "                    loss = criterion(out, labels)\n",
    "                    _,preds = torch.max(out.data,1)\n",
    "                    running_loss += loss.item() * data.size(0)\n",
    "                    training_size += data.size(0)\n",
    "                    corrects += torch.sum(labels.data == preds)\n",
    "                print(f'VAL: Loss: {running_loss/training_size}  Accuracy: {100.*corrects.float()/training_size}%')"
   ]
  },
  {
   "cell_type": "code",
   "execution_count": 6,
   "metadata": {},
   "outputs": [],
   "source": [
    "batch_size = 64\n",
    "type_model = \"shuffle-net_standard_batchnorm\"\n",
    "data = datasets.CIFAR10('./data', train=True,\n",
    "                        transform=transforms.Compose([\n",
    "                            transforms.RandomCrop(32, padding=4),\n",
    "                            transforms.RandomHorizontalFlip(),\n",
    "                            transforms.ToTensor(),\n",
    "                            transforms.Normalize((0.4914, 0.4822, 0.4465), (0.2023, 0.1994, 0.2010))\n",
    "                        ]))\n",
    "\n",
    "\n",
    "train_loader = torch.utils.data.DataLoader(data, batch_size=batch_size, shuffle=True)\n",
    "\n",
    "test_loader = torch.utils.data.DataLoader(\n",
    "datasets.CIFAR10('./data', train=False, transform=transforms.Compose([\n",
    "transforms.Resize((32, 32)),\n",
    "transforms.ToTensor(),\n",
    "transforms.Normalize((0.4914, 0.4822, 0.4465), (0.2023, 0.1994, 0.2010))\n",
    "])), batch_size=batch_size, shuffle=False)"
   ]
  },
  {
   "cell_type": "code",
   "execution_count": 7,
   "metadata": {},
   "outputs": [],
   "source": [
    "num_samples = 5\n",
    "net = ShuffleNetV2(net_size=.5)\n",
    "optimizer = torch.optim.Adam(net.parameters(), lr=0.01)\n",
    "net.samples = num_samples\n",
    "vi = GaussianVariationalInference()"
   ]
  },
  {
   "cell_type": "code",
   "execution_count": 8,
   "metadata": {},
   "outputs": [],
   "source": [
    "trainer = OneCycleModel(train_loader, test_loader, net, \"cpu\", optimizer, vi, 1)"
   ]
  },
  {
   "cell_type": "code",
   "execution_count": 9,
   "metadata": {},
   "outputs": [
    {
     "data": {
      "application/vnd.jupyter.widget-view+json": {
       "model_id": "dadd3ed35aaf4ad7b7842f137c2ac7f4",
       "version_major": 2,
       "version_minor": 0
      },
      "text/plain": [
       "HBox(children=(IntProgress(value=0, max=50), HTML(value='')))"
      ]
     },
     "metadata": {},
     "output_type": "display_data"
    },
    {
     "data": {
      "image/png": "[encoded data removed]",
      "text/plain": [
       "<Figure size 432x288 with 1 Axes>"
      ]
     },
     "metadata": {
      "needs_background": "light"
     },
     "output_type": "display_data"
    }
   ],
   "source": [
    "trainer.lr_find(num_steps=100, show=True)"
   ]
  }
 ],
 "metadata": {
  "kernelspec": {
   "display_name": "Python 3",
   "language": "python",
   "name": "python3"
  },
  "language_info": {
   "codemirror_mode": {
    "name": "ipython",
    "version": 3
   },
   "file_extension": ".py",
   "mimetype": "text/x-python",
   "name": "python",
   "nbconvert_exporter": "python",
   "pygments_lexer": "ipython3",
   "version": "3.6.7"
  }
 },
 "nbformat": 4,
 "nbformat_minor": 2
}
